{
 "metadata": {
  "language_info": {
   "codemirror_mode": {
    "name": "ipython",
    "version": 3
   },
   "file_extension": ".py",
   "mimetype": "text/x-python",
   "name": "python",
   "nbconvert_exporter": "python",
   "pygments_lexer": "ipython3",
   "version": 3
  },
  "orig_nbformat": 2
 },
 "nbformat": 4,
 "nbformat_minor": 2,
 "cells": [
  {
   "cell_type": "code",
   "execution_count": null,
   "metadata": {},
   "outputs": [],
   "source": [
    "# root@5b8a3b1d604e:/home/docker/CSN/bin#\n",
    "from gpu_ccsn import *\n",
    "# data='../input/Buettner/test.csv'\n",
    "data='./test1.csv'\n",
    "csn = SSN(data)"
   ]
  },
  {
   "cell_type": "code",
   "execution_count": null,
   "metadata": {},
   "outputs": [],
   "source": [
    "csn.csnet(cells=None, alpha=0.1, average=0,boxsize=0.1, edgeW=0, kk=1, dlimit=5, to_csv=0)\r\n",
    "# csn.csndm()\r\n",
    "csn.nfe()"
   ]
  },
  {
   "cell_type": "code",
   "execution_count": null,
   "metadata": {},
   "outputs": [],
   "source": [
    "alpha=0.1; boxsize=0.1;edgeW=0; kk=0; dlimit=5"
   ]
  }
 ]
}