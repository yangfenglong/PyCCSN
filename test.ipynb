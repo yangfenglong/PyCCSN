{
 "metadata": {
  "language_info": {
   "codemirror_mode": {
    "name": "ipython",
    "version": 3
   },
   "file_extension": ".py",
   "mimetype": "text/x-python",
   "name": "python",
   "nbconvert_exporter": "python",
   "pygments_lexer": "ipython3",
   "version": 3
  },
  "orig_nbformat": 2
 },
 "nbformat": 4,
 "nbformat_minor": 2,
 "cells": [
  {
   "cell_type": "code",
   "execution_count": null,
   "metadata": {},
   "outputs": [],
   "source": [
    "# root@5b8a3b1d604e:/home/docker/CSN/bin#\n",
    "from PyCCSN import *\n",
    "# data='../input/Buettner/in_X.csv'\n",
    "data='./test1.csv'\n",
    "csn = CCSN(data)\n",
    "csn.ccsn(alpha=0.01, boxsize=0.1, kk=2, dlimit=5, average=1, normalize=1, ndm=1, nfe=1)\n"
   ]
  },
  {
   "cell_type": "code",
   "execution_count": null,
   "metadata": {},
   "outputs": [],
   "source": [
    "# csn.csndm()\n",
    "csn.nfe()"
   ]
  },
  {
   "cell_type": "code",
   "execution_count": null,
   "metadata": {},
   "outputs": [],
   "source": [
    "alpha=0.01; boxsize=0.1;  kk=0; dlimit=5; \n",
    "average=1; normalize=1; ndm=1; nfe=1\n"
   ]
  }
 ]
}